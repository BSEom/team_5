{
 "cells": [
  {
   "cell_type": "code",
   "execution_count": null,
   "id": "ac905bea-9402-4b6b-a4c8-bf7bccf877ca",
   "metadata": {},
   "outputs": [],
   "source": [
    "import pandas as pd\n",
    "import numpy as np\n",
    "\n",
    "# AT = titanic_df[titanic_df['Age'] >= 60] 15번\n",
    "# P1 = AT[AT['Pclass'] == 1] 15번\n",
    "# len(P1[P1['Sex'] == 'female']) 15번\n",
    "\n",
    "# PFS = titanic_df[titanic_df['Sex'] == 'female'].groupby('Pclass').sum() 16번\n",
    "# print(f\"1등급 여성 생존자 {PFS['Survived'].loc[1]}\") 16번\n",
    "# print(f\"2등급 여성 생존자 {PFS['Survived'].loc[2]}\") 16번\n",
    "# print(f\"3등급 여성 생존자 {PFS['Survived'].loc[3]}\") 16번\n",
    "\n",
    "# SIP = titanic_df.set_index('Pclass') 17번\n",
    "# SIP.groupby('Pclass').count() 17번\n",
    "\n",
    "iris = pd.read_csv('dataset/iris.csv')\n",
    "iris #18번"
   ]
  }
 ],
 "metadata": {
  "kernelspec": {
   "display_name": "Python 3 (ipykernel)",
   "language": "python",
   "name": "python3"
  },
  "language_info": {
   "codemirror_mode": {
    "name": "ipython",
    "version": 3
   },
   "file_extension": ".py",
   "mimetype": "text/x-python",
   "name": "python",
   "nbconvert_exporter": "python",
   "pygments_lexer": "ipython3",
   "version": "3.13.1"
  }
 },
 "nbformat": 4,
 "nbformat_minor": 5
}
