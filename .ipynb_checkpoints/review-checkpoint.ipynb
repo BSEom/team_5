{
 "cells": [
  {
   "cell_type": "code",
   "execution_count": 4,
   "id": "0237af51-2887-412a-9cd5-c7bf3c1a742f",
   "metadata": {},
   "outputs": [
    {
     "name": "stdin",
     "output_type": "stream",
     "text": [
      "단어를 입력하세요: 가나다다나함\n"
     ]
    },
    {
     "name": "stdout",
     "output_type": "stream",
     "text": [
      "가\n",
      "앞 뒤 똑같습니다.\n"
     ]
    }
   ],
   "source": [
    "# 이성훈 님  q_01\n",
    "\n",
    "\n",
    "inp = input('단어를 입력하세요:')\n",
    "a = inp\n",
    "b = 0\n",
    "\n",
    "print(a[0])\n",
    "for i in range(int(len(a)/2)):            # 문자열을 반으로 나눠서 양쪽 끝을 비교하는 방식\n",
    "    b += 1\n",
    "    if a[i] == a[len(a)-b]:           # 같으면 c에 1을 저장\n",
    "        c=1\n",
    "    else:                             # 다르면 c에 0을 저장\n",
    "        c=0\n",
    "if c ==1:\n",
    "    print(\"앞 뒤 똑같습니다.\")\n",
    "elif c==0:\n",
    "    print(\"앞 뒤 다릅니다.\")\n",
    "\n",
    "\n",
    "# 다만 a[0]부터 순서대로 비교한 결과 c를 계속 갱신하는 방식이라 \n",
    "# 아래와 같은 입력값의 경우 값이 다른 경우에도 똑같다고 출력합니다.\n",
    "\n",
    "# 입력값: 가나다다나함\n",
    "\n",
    "# c를 리스트와 같은 다중 값이 저장가능한 타입으로 구성하거나\n",
    "# for문 안에 else부분에서 멈춘 후 값이 다르다고 출력하도록 수정할 수 있습니다.\n",
    "\n",
    "\n",
    "\n",
    "\n"
   ]
  },
  {
   "cell_type": "code",
   "execution_count": null,
   "id": "40bc6827-c268-4b5d-94e2-6997babca07c",
   "metadata": {},
   "outputs": [],
   "source": [
    "\n"
   ]
  },
  {
   "cell_type": "code",
   "execution_count": 34,
   "id": "56703224-4959-4177-8825-9c97ac4d0869",
   "metadata": {},
   "outputs": [
    {
     "name": "stdin",
     "output_type": "stream",
     "text": [
      "문장을 입력하세요. i abc int z def\n"
     ]
    },
    {
     "name": "stdout",
     "output_type": "stream",
     "text": [
      "['i', 'z']\n"
     ]
    }
   ],
   "source": [
    "# hb 님  q_03\n",
    "\n",
    "\n",
    "a = input('문장을 입력하세요.')\n",
    "b = a.split()             \n",
    "c = max(b)                # 리스트에서 max() 함수를 사용하여 값을 c에 저장\n",
    "d = []                    # c와 같은 길이의 단어을 저장하기위한 리스트\n",
    "for i in b:               # 문자가 저장된 리스트 b에서 c와 같은 길이를 가진 문자를 d에 저장\n",
    "    if len(i) == len(c):\n",
    "        d.append(i)\n",
    "print(d)\n",
    "\n",
    "\n",
    "# max() 함수의 경우 문자는 각 고유의 유니코드 값으로 변환 후 그 값을 비교해 최댓값을 반환합니다.\n",
    "# 보통 알파벳 순으로 a가 값이작고 z가 값이 커요, print(chr(97))로 확인 가능 (65~90 A~Z), (97~122 a~z)\n",
    "# 'abcd'와 같은 단어의 경우 각각 맨 앞부분을 (ex: 'a') 비교합니다, 값이 같다면 다음 자리를 비교합니다.\n",
    "# 그래서 아래와 같은 입력값의 경우 길이가 짧지만 코드값이 높은 'z'를 출력하고 'z'와 길이가 같은 'i'를 출력합니다.\n",
    "\n",
    "# 입력값: i abc int z def\n",
    "\n",
    "# max() 함수가 아닌 다른 방식으로 길이가 가장 큰 단어를 구해야합니다.\n",
    "# 또는 각 단어의 길이를 구해 리스트로 구성한 후 max()를 이용해 위치를 받아 길이가 긴 단어를 선택할 수 있습니다. \n",
    "\n"
   ]
  },
  {
   "cell_type": "code",
   "execution_count": 41,
   "id": "6489a6fe-2e2c-4dbe-aaa5-1c6fe001b211",
   "metadata": {},
   "outputs": [
    {
     "name": "stdout",
     "output_type": "stream",
     "text": [
      "a\n",
      "A\n",
      "z\n"
     ]
    }
   ],
   "source": [
    "print(chr(97))\n",
    "print(chr(65))\n",
    "\n",
    "li = ['abc', 'z', 'def']\n",
    "print(max(li))"
   ]
  },
  {
   "cell_type": "code",
   "execution_count": null,
   "id": "aadcd288-3eb0-4984-af75-f799577c2371",
   "metadata": {},
   "outputs": [],
   "source": []
  },
  {
   "cell_type": "code",
   "execution_count": null,
   "id": "e6845dbe-39aa-4a94-9bf3-08901522c85a",
   "metadata": {},
   "outputs": [],
   "source": []
  }
 ],
 "metadata": {
  "kernelspec": {
   "display_name": "Python 3 (ipykernel)",
   "language": "python",
   "name": "python3"
  },
  "language_info": {
   "codemirror_mode": {
    "name": "ipython",
    "version": 3
   },
   "file_extension": ".py",
   "mimetype": "text/x-python",
   "name": "python",
   "nbconvert_exporter": "python",
   "pygments_lexer": "ipython3",
   "version": "3.13.1"
  }
 },
 "nbformat": 4,
 "nbformat_minor": 5
}
